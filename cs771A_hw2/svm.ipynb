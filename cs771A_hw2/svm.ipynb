{
 "cells": [
  {
   "cell_type": "code",
   "execution_count": 3,
   "metadata": {},
   "outputs": [
    {
     "name": "stdout",
     "output_type": "stream",
     "text": [
      "(400, 2)\n",
      "('The number of datapoints in the datset is:', 400)\n",
      "('The number of features in the dataset is:', 2)\n",
      "The features are:Index([u'x1', u'x2', u'Label'], dtype='object')\n",
      "('The classes are:',  1    200\n",
      "-1    200\n",
      "Name: Label, dtype: int64)\n"
     ]
    }
   ],
   "source": [
    "import pandas as pd\n",
    "df=pd.read_csv('binclassv2.txt',sep=',', names = [\"x1\", \"x2\", \"Label\"])\n",
    "df_val=df.copy()\n",
    "df_val=df_val.drop('Label',axis=1)\n",
    "print(df_val.shape)\n",
    "#df.reset_index(drop = True, inplace = True) \n",
    "t=df.shape\n",
    "print(\"The number of datapoints in the datset is:\",t[0])\n",
    "print(\"The number of features in the dataset is:\",t[1]-1)\n",
    "t1=df.columns\n",
    "print(\"The features are:{}\".format(t1))\n",
    "t=df[\"Label\"].value_counts()\n",
    "print(\"The classes are:\",t)"
   ]
  },
  {
   "cell_type": "code",
   "execution_count": null,
   "metadata": {
    "collapsed": true
   },
   "outputs": [],
   "source": []
  },
  {
   "cell_type": "code",
   "execution_count": 4,
   "metadata": {},
   "outputs": [
    {
     "name": "stdout",
     "output_type": "stream",
     "text": [
      "[-0.16535381  0.13404855]\n",
      "[-30.         -28.7755102  -27.55102041 -26.32653061 -25.10204082\n",
      " -23.87755102 -22.65306122 -21.42857143 -20.20408163 -18.97959184\n",
      " -17.75510204 -16.53061224 -15.30612245 -14.08163265 -12.85714286\n",
      " -11.63265306 -10.40816327  -9.18367347  -7.95918367  -6.73469388\n",
      "  -5.51020408  -4.28571429  -3.06122449  -1.83673469  -0.6122449\n",
      "   0.6122449    1.83673469   3.06122449   4.28571429   5.51020408\n",
      "   6.73469388   7.95918367   9.18367347  10.40816327  11.63265306\n",
      "  12.85714286  14.08163265  15.30612245  16.53061224  17.75510204\n",
      "  18.97959184  20.20408163  21.42857143  22.65306122  23.87755102\n",
      "  25.10204082  26.32653061  27.55102041  28.7755102   30.        ]\n"
     ]
    },
    {
     "data": {
      "image/png": "[encoded data removed]",
      "text/plain": [
       "<matplotlib.figure.Figure at 0x7f385f106e10>"
      ]
     },
     "metadata": {},
     "output_type": "display_data"
    }
   ],
   "source": [
    "import numpy as np\n",
    "import matplotlib.pyplot as plt\n",
    "from sklearn import svm\n",
    "import seaborn as sns\n",
    "clf = svm.SVC(kernel='linear', C=1)\n",
    "X=df[['x1','x2']]\n",
    "#print(X)\n",
    "y=df['Label']\n",
    "df_1 = df.query('Label==1')\n",
    "#print(df_1)\n",
    "df_2=df.query('Label==-1')\n",
    "df_1=df_1.drop('Label',axis=1)\n",
    "df_2=df_2.drop('Label',axis=1)\n",
    "clf.fit(X,y)\n",
    "w = clf.coef_[0]\n",
    "print(w)\n",
    "a = -w[0] / w[1]\n",
    "xx = np.linspace(-30, 30)\n",
    "print(xx)\n",
    "yy = a * xx - (clf.intercept_[0]) / w[1]\n",
    "#print(yy)\n",
    "lineStart1 = xx.min() \n",
    "lineEnd1 = xx.max() \n",
    "lineStart = yy.min() \n",
    "lineEnd = yy.max()  \n",
    "plt.clf()\n",
    "plt.xlabel('1st Feature')\n",
    "plt.ylabel('2nd Feature')\n",
    "plt.scatter(df_1['x1'].values,df_1['x2'].values,color='r',label='positive')\n",
    "plt.scatter(df_2['x1'].values,df_2['x2'].values,color='b',label='negative')\n",
    "plt.plot([lineStart1, lineEnd1], [lineStart, lineEnd], 'k-', color = 'g')\n",
    "plt.legend(loc='best')\n",
    "plt.title('SVM plot of binclassv2.txt')\n",
    "#plt.xlim(lineStart, lineEnd)\n",
    "#plt.ylim(lineStart, lineEnd)\n",
    "plt.show()\n",
    "#sns.FacetGrid(df,hue=\"Label\",size=6).map(plt.scatter,'x1','x2').add_legend()\n",
    "\n"
   ]
  },
  {
   "cell_type": "code",
   "execution_count": null,
   "metadata": {},
   "outputs": [],
   "source": []
  },
  {
   "cell_type": "code",
   "execution_count": null,
   "metadata": {},
   "outputs": [],
   "source": []
  },
  {
   "cell_type": "code",
   "execution_count": null,
   "metadata": {
    "collapsed": true
   },
   "outputs": [],
   "source": []
  },
  {
   "cell_type": "code",
   "execution_count": null,
   "metadata": {
    "collapsed": true
   },
   "outputs": [],
   "source": []
  }
 ],
 "metadata": {
  "kernelspec": {
   "display_name": "Python 2",
   "language": "python",
   "name": "python2"
  },
  "language_info": {
   "codemirror_mode": {
    "name": "ipython",
    "version": 2
   },
   "file_extension": ".py",
   "mimetype": "text/x-python",
   "name": "python",
   "nbconvert_exporter": "python",
   "pygments_lexer": "ipython2",
   "version": "2.7.12"
  }
 },
 "nbformat": 4,
 "nbformat_minor": 2
}
